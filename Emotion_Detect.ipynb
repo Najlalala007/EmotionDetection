{
 "cells": [
  {
   "cell_type": "code",
   "execution_count": 26,
   "id": "a4366f58-d512-4abb-bb6f-72a8397a5422",
   "metadata": {},
   "outputs": [],
   "source": [
    "import pandas as pd\n",
    "from sklearn.feature_extraction.text import CountVectorizer\n",
    "from sklearn.naive_bayes import MultinomialNB\n",
    "from sklearn.pipeline import make_pipeline\n",
    "from sklearn.model_selection import train_test_split\n",
    "from sklearn.metrics import classification_report, accuracy_score\n",
    "from sklearn.preprocessing import LabelEncoder\n",
    "import nltk\n",
    "from nltk.corpus import stopwords\n",
    "import joblib"
   ]
  },
  {
   "cell_type": "code",
   "execution_count": 27,
   "id": "10bdf056-21a7-4e08-89cd-6eafaecdf9b0",
   "metadata": {},
   "outputs": [
    {
     "name": "stderr",
     "output_type": "stream",
     "text": [
      "[nltk_data] Downloading package stopwords to\n",
      "[nltk_data]     C:\\Users\\nazla\\AppData\\Roaming\\nltk_data...\n",
      "[nltk_data]   Package stopwords is already up-to-date!\n"
     ]
    },
    {
     "data": {
      "text/plain": [
       "True"
      ]
     },
     "execution_count": 27,
     "metadata": {},
     "output_type": "execute_result"
    }
   ],
   "source": [
    "# Download NLTK stopwords\n",
    "nltk.download('stopwords')"
   ]
  },
  {
   "cell_type": "code",
   "execution_count": 28,
   "id": "7ed67b8a-8ce7-4146-9919-94fde5ac638c",
   "metadata": {},
   "outputs": [
    {
     "name": "stdout",
     "output_type": "stream",
     "text": [
      "   Emotion                                               Text  \\\n",
      "0  neutral                                             Why ?    \n",
      "1      joy    Sage Act upgrade on my to do list for tommorow.   \n",
      "2  sadness  ON THE WAY TO MY HOMEGIRL BABY FUNERAL!!! MAN ...   \n",
      "3      joy   Such an eye ! The true hazel eye-and so brill...   \n",
      "4      joy  @Iluvmiasantos ugh babe.. hugggzzz for u .!  b...   \n",
      "\n",
      "                                          Clean_Text  \n",
      "0                                                NaN  \n",
      "1                     Sage Act upgrade list tommorow  \n",
      "2  WAY HOMEGIRL BABY FUNERAL MAN HATE FUNERALS SH...  \n",
      "3  eye  true hazel eyeand brilliant  Regular feat...  \n",
      "4    ugh babe hugggzzz u  babe naamazed nga ako e...  \n"
     ]
    }
   ],
   "source": [
    "# Load Dataset and display the first few rows of the dataset\n",
    "df = pd.read_csv('emotion_dataset.csv')\n",
    "print(df.head())"
   ]
  },
  {
   "cell_type": "code",
   "execution_count": 29,
   "id": "8bf4555e-66c0-4e7b-8ba4-6fba8606a8f0",
   "metadata": {},
   "outputs": [],
   "source": [
    "# Preprocess Data\n",
    "stop_words = set(stopwords.words('english'))\n",
    "\n",
    "def preprocess_text(Text):\n",
    "    words = Text.split()\n",
    "    words = [word.lower() for word in words if word.isalpha() and word.lower() not in stop_words]\n",
    "    return ' '.join(words)\n",
    "\n",
    "df['Text'] = df['Text'].apply(preprocess_text)"
   ]
  },
  {
   "cell_type": "code",
   "execution_count": 30,
   "id": "a371adef-9244-4621-928a-fe0c54adaac2",
   "metadata": {},
   "outputs": [],
   "source": [
    "# Ensure only the six specified categories are included\n",
    "df = df[df['Emotion'].isin(['neutral', 'anger', 'joy', 'disgust', 'fear', 'sadness', 'surprise'])]"
   ]
  },
  {
   "cell_type": "code",
   "execution_count": 31,
   "id": "26effdae-21bf-439a-a2c7-29b3d7f539cc",
   "metadata": {},
   "outputs": [],
   "source": [
    "# Encode Labels\n",
    "label_encoder = LabelEncoder()\n",
    "df['Emotion'] = label_encoder.fit_transform(df['Emotion'])"
   ]
  },
  {
   "cell_type": "code",
   "execution_count": 32,
   "id": "56e53961-6e79-48e0-b3d6-b2c58a0795c4",
   "metadata": {},
   "outputs": [],
   "source": [
    "# Splitting the Data\n",
    "X = df['Text']\n",
    "y = df['Emotion']\n",
    "X_train, X_test, y_train, y_test = train_test_split(X, y, test_size=0.2, random_state=42)"
   ]
  },
  {
   "cell_type": "code",
   "execution_count": 33,
   "id": "9d8427fc-bcb6-43af-a8e1-424a34af4053",
   "metadata": {},
   "outputs": [
    {
     "data": {
      "text/html": [
       "<style>#sk-container-id-3 {color: black;background-color: white;}#sk-container-id-3 pre{padding: 0;}#sk-container-id-3 div.sk-toggleable {background-color: white;}#sk-container-id-3 label.sk-toggleable__label {cursor: pointer;display: block;width: 100%;margin-bottom: 0;padding: 0.3em;box-sizing: border-box;text-align: center;}#sk-container-id-3 label.sk-toggleable__label-arrow:before {content: \"▸\";float: left;margin-right: 0.25em;color: #696969;}#sk-container-id-3 label.sk-toggleable__label-arrow:hover:before {color: black;}#sk-container-id-3 div.sk-estimator:hover label.sk-toggleable__label-arrow:before {color: black;}#sk-container-id-3 div.sk-toggleable__content {max-height: 0;max-width: 0;overflow: hidden;text-align: left;background-color: #f0f8ff;}#sk-container-id-3 div.sk-toggleable__content pre {margin: 0.2em;color: black;border-radius: 0.25em;background-color: #f0f8ff;}#sk-container-id-3 input.sk-toggleable__control:checked~div.sk-toggleable__content {max-height: 200px;max-width: 100%;overflow: auto;}#sk-container-id-3 input.sk-toggleable__control:checked~label.sk-toggleable__label-arrow:before {content: \"▾\";}#sk-container-id-3 div.sk-estimator input.sk-toggleable__control:checked~label.sk-toggleable__label {background-color: #d4ebff;}#sk-container-id-3 div.sk-label input.sk-toggleable__control:checked~label.sk-toggleable__label {background-color: #d4ebff;}#sk-container-id-3 input.sk-hidden--visually {border: 0;clip: rect(1px 1px 1px 1px);clip: rect(1px, 1px, 1px, 1px);height: 1px;margin: -1px;overflow: hidden;padding: 0;position: absolute;width: 1px;}#sk-container-id-3 div.sk-estimator {font-family: monospace;background-color: #f0f8ff;border: 1px dotted black;border-radius: 0.25em;box-sizing: border-box;margin-bottom: 0.5em;}#sk-container-id-3 div.sk-estimator:hover {background-color: #d4ebff;}#sk-container-id-3 div.sk-parallel-item::after {content: \"\";width: 100%;border-bottom: 1px solid gray;flex-grow: 1;}#sk-container-id-3 div.sk-label:hover label.sk-toggleable__label {background-color: #d4ebff;}#sk-container-id-3 div.sk-serial::before {content: \"\";position: absolute;border-left: 1px solid gray;box-sizing: border-box;top: 0;bottom: 0;left: 50%;z-index: 0;}#sk-container-id-3 div.sk-serial {display: flex;flex-direction: column;align-items: center;background-color: white;padding-right: 0.2em;padding-left: 0.2em;position: relative;}#sk-container-id-3 div.sk-item {position: relative;z-index: 1;}#sk-container-id-3 div.sk-parallel {display: flex;align-items: stretch;justify-content: center;background-color: white;position: relative;}#sk-container-id-3 div.sk-item::before, #sk-container-id-3 div.sk-parallel-item::before {content: \"\";position: absolute;border-left: 1px solid gray;box-sizing: border-box;top: 0;bottom: 0;left: 50%;z-index: -1;}#sk-container-id-3 div.sk-parallel-item {display: flex;flex-direction: column;z-index: 1;position: relative;background-color: white;}#sk-container-id-3 div.sk-parallel-item:first-child::after {align-self: flex-end;width: 50%;}#sk-container-id-3 div.sk-parallel-item:last-child::after {align-self: flex-start;width: 50%;}#sk-container-id-3 div.sk-parallel-item:only-child::after {width: 0;}#sk-container-id-3 div.sk-dashed-wrapped {border: 1px dashed gray;margin: 0 0.4em 0.5em 0.4em;box-sizing: border-box;padding-bottom: 0.4em;background-color: white;}#sk-container-id-3 div.sk-label label {font-family: monospace;font-weight: bold;display: inline-block;line-height: 1.2em;}#sk-container-id-3 div.sk-label-container {text-align: center;}#sk-container-id-3 div.sk-container {/* jupyter's `normalize.less` sets `[hidden] { display: none; }` but bootstrap.min.css set `[hidden] { display: none !important; }` so we also need the `!important` here to be able to override the default hidden behavior on the sphinx rendered scikit-learn.org. See: https://github.com/scikit-learn/scikit-learn/issues/21755 */display: inline-block !important;position: relative;}#sk-container-id-3 div.sk-text-repr-fallback {display: none;}</style><div id=\"sk-container-id-3\" class=\"sk-top-container\"><div class=\"sk-text-repr-fallback\"><pre>MultinomialNB()</pre><b>In a Jupyter environment, please rerun this cell to show the HTML representation or trust the notebook. <br />On GitHub, the HTML representation is unable to render, please try loading this page with nbviewer.org.</b></div><div class=\"sk-container\" hidden><div class=\"sk-item\"><div class=\"sk-estimator sk-toggleable\"><input class=\"sk-toggleable__control sk-hidden--visually\" id=\"sk-estimator-id-5\" type=\"checkbox\" checked><label for=\"sk-estimator-id-5\" class=\"sk-toggleable__label sk-toggleable__label-arrow\">MultinomialNB</label><div class=\"sk-toggleable__content\"><pre>MultinomialNB()</pre></div></div></div></div></div>"
      ],
      "text/plain": [
       "MultinomialNB()"
      ]
     },
     "execution_count": 33,
     "metadata": {},
     "output_type": "execute_result"
    }
   ],
   "source": [
    "# Build the Model\n",
    "vectorizer = CountVectorizer()\n",
    "X_train_vec = vectorizer.fit_transform(X_train)\n",
    "X_test_vec = vectorizer.transform(X_test)\n",
    "\n",
    "model = MultinomialNB()\n",
    "model.fit(X_train_vec, y_train)"
   ]
  },
  {
   "cell_type": "code",
   "execution_count": 34,
   "id": "f5716b4b-f018-4592-bbd1-8b22fad52981",
   "metadata": {},
   "outputs": [
    {
     "name": "stdout",
     "output_type": "stream",
     "text": [
      "Classification Report:\n",
      "               precision    recall  f1-score   support\n",
      "\n",
      "       anger       0.64      0.47      0.54       840\n",
      "     disgust       0.90      0.06      0.11       161\n",
      "        fear       0.69      0.54      0.60      1072\n",
      "         joy       0.52      0.84      0.64      2285\n",
      "     neutral       0.76      0.14      0.23       469\n",
      "     sadness       0.55      0.55      0.55      1332\n",
      "    surprise       0.61      0.30      0.40       771\n",
      "\n",
      "    accuracy                           0.57      6930\n",
      "   macro avg       0.67      0.41      0.44      6930\n",
      "weighted avg       0.60      0.57      0.54      6930\n",
      "\n",
      "Accuracy: 0.5653679653679654\n"
     ]
    }
   ],
   "source": [
    "# Evaluate the Model\n",
    "y_pred = model.predict(X_test_vec)\n",
    "print(\"Classification Report:\\n\", classification_report(y_test, y_pred, target_names=label_encoder.classes_))\n",
    "print(\"Accuracy:\", accuracy_score(y_test, y_pred))"
   ]
  },
  {
   "cell_type": "code",
   "execution_count": 35,
   "id": "014eb0f8-de2e-4ad1-861c-c55ed5be20ab",
   "metadata": {},
   "outputs": [
    {
     "data": {
      "text/plain": [
       "['emotion_detection_label_encoder.pkl']"
      ]
     },
     "execution_count": 35,
     "metadata": {},
     "output_type": "execute_result"
    }
   ],
   "source": [
    "# Save the Model, Vectorizer, and Label Encoder using joblib\n",
    "joblib.dump(model, 'emotion_detection_model.pkl')\n",
    "joblib.dump(vectorizer, 'emotion_detection_vectorizer.pkl')\n",
    "joblib.dump(label_encoder, 'emotion_detection_label_encoder.pkl')"
   ]
  },
  {
   "cell_type": "code",
   "execution_count": 36,
   "id": "ac932140-1e89-4796-923a-17ef65ea0268",
   "metadata": {},
   "outputs": [
    {
     "name": "stdout",
     "output_type": "stream",
     "text": [
      "The predicted emotion for the text 'I am very happy today!' is: joy\n"
     ]
    }
   ],
   "source": [
    "# Predicting on a new text sample (example)\n",
    "new_text = \"I am very happy today!\"\n",
    "processed_text = preprocess_text(new_text)\n",
    "processed_text_vec = vectorizer.transform([processed_text])\n",
    "prediction = model.predict(processed_text_vec)[0]\n",
    "predicted_emotion = label_encoder.inverse_transform([prediction])[0]\n",
    "print(f\"The predicted emotion for the text '{new_text}' is: {predicted_emotion}\")"
   ]
  },
  {
   "cell_type": "code",
   "execution_count": null,
   "id": "7b458df9-f972-4b99-9aa1-c4eee7da9f4c",
   "metadata": {},
   "outputs": [],
   "source": []
  }
 ],
 "metadata": {
  "kernelspec": {
   "display_name": "Python 3 (ipykernel)",
   "language": "python",
   "name": "python3"
  },
  "language_info": {
   "codemirror_mode": {
    "name": "ipython",
    "version": 3
   },
   "file_extension": ".py",
   "mimetype": "text/x-python",
   "name": "python",
   "nbconvert_exporter": "python",
   "pygments_lexer": "ipython3",
   "version": "3.11.7"
  }
 },
 "nbformat": 4,
 "nbformat_minor": 5
}
